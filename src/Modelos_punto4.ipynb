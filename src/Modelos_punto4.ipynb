{
 "cells": [
  {
   "cell_type": "code",
   "execution_count": 1,
   "metadata": {},
   "outputs": [],
   "source": [
    "import numpy as np\n",
    "import pandas as pd\n",
    "#import matplotlib.pyplot as plt\n",
    "import sys\n",
    "from MetodosNumericos import MetodosNumericos\n",
    "\n",
    "from sklearn.linear_model import LinearRegression\n",
    "from scipy.stats import linregress\n",
    "import statsmodels.formula.api as sm"
   ]
  },
  {
   "cell_type": "markdown",
   "metadata": {},
   "source": [
    "# Practica "
   ]
  },
  {
   "cell_type": "code",
   "execution_count": 2,
   "metadata": {},
   "outputs": [
    {
     "data": {
      "text/html": [
       "<div>\n",
       "<style scoped>\n",
       "    .dataframe tbody tr th:only-of-type {\n",
       "        vertical-align: middle;\n",
       "    }\n",
       "\n",
       "    .dataframe tbody tr th {\n",
       "        vertical-align: top;\n",
       "    }\n",
       "\n",
       "    .dataframe thead th {\n",
       "        text-align: right;\n",
       "    }\n",
       "</style>\n",
       "<table border=\"1\" class=\"dataframe\">\n",
       "  <thead>\n",
       "    <tr style=\"text-align: right;\">\n",
       "      <th></th>\n",
       "      <th>faminc</th>\n",
       "      <th>cigtax</th>\n",
       "      <th>cigprice</th>\n",
       "      <th>bwght</th>\n",
       "      <th>fatheduc</th>\n",
       "      <th>motheduc</th>\n",
       "      <th>parity</th>\n",
       "      <th>male</th>\n",
       "      <th>white</th>\n",
       "      <th>cigs</th>\n",
       "      <th>lbwght</th>\n",
       "      <th>bwghtlbs</th>\n",
       "      <th>packs</th>\n",
       "      <th>lfaminc</th>\n",
       "    </tr>\n",
       "  </thead>\n",
       "  <tbody>\n",
       "    <tr>\n",
       "      <th>1</th>\n",
       "      <td>13.5</td>\n",
       "      <td>16.5</td>\n",
       "      <td>122.300003</td>\n",
       "      <td>109</td>\n",
       "      <td>12.0</td>\n",
       "      <td>12.0</td>\n",
       "      <td>1</td>\n",
       "      <td>1</td>\n",
       "      <td>1</td>\n",
       "      <td>0</td>\n",
       "      <td>4.691348</td>\n",
       "      <td>6.8125</td>\n",
       "      <td>0.0</td>\n",
       "      <td>2.602690</td>\n",
       "    </tr>\n",
       "    <tr>\n",
       "      <th>2</th>\n",
       "      <td>7.5</td>\n",
       "      <td>16.5</td>\n",
       "      <td>122.300003</td>\n",
       "      <td>133</td>\n",
       "      <td>6.0</td>\n",
       "      <td>12.0</td>\n",
       "      <td>2</td>\n",
       "      <td>1</td>\n",
       "      <td>0</td>\n",
       "      <td>0</td>\n",
       "      <td>4.890349</td>\n",
       "      <td>8.3125</td>\n",
       "      <td>0.0</td>\n",
       "      <td>2.014903</td>\n",
       "    </tr>\n",
       "    <tr>\n",
       "      <th>3</th>\n",
       "      <td>0.5</td>\n",
       "      <td>16.5</td>\n",
       "      <td>122.300003</td>\n",
       "      <td>129</td>\n",
       "      <td>NaN</td>\n",
       "      <td>12.0</td>\n",
       "      <td>2</td>\n",
       "      <td>0</td>\n",
       "      <td>0</td>\n",
       "      <td>0</td>\n",
       "      <td>4.859812</td>\n",
       "      <td>8.0625</td>\n",
       "      <td>0.0</td>\n",
       "      <td>-0.693147</td>\n",
       "    </tr>\n",
       "    <tr>\n",
       "      <th>4</th>\n",
       "      <td>15.5</td>\n",
       "      <td>16.5</td>\n",
       "      <td>122.300003</td>\n",
       "      <td>126</td>\n",
       "      <td>12.0</td>\n",
       "      <td>12.0</td>\n",
       "      <td>2</td>\n",
       "      <td>1</td>\n",
       "      <td>0</td>\n",
       "      <td>0</td>\n",
       "      <td>4.836282</td>\n",
       "      <td>7.8750</td>\n",
       "      <td>0.0</td>\n",
       "      <td>2.740840</td>\n",
       "    </tr>\n",
       "    <tr>\n",
       "      <th>5</th>\n",
       "      <td>27.5</td>\n",
       "      <td>16.5</td>\n",
       "      <td>122.300003</td>\n",
       "      <td>134</td>\n",
       "      <td>14.0</td>\n",
       "      <td>12.0</td>\n",
       "      <td>2</td>\n",
       "      <td>1</td>\n",
       "      <td>1</td>\n",
       "      <td>0</td>\n",
       "      <td>4.897840</td>\n",
       "      <td>8.3750</td>\n",
       "      <td>0.0</td>\n",
       "      <td>3.314186</td>\n",
       "    </tr>\n",
       "  </tbody>\n",
       "</table>\n",
       "</div>"
      ],
      "text/plain": [
       "   faminc  cigtax    cigprice  bwght  fatheduc  motheduc  parity  male  white  \\\n",
       "1    13.5    16.5  122.300003    109      12.0      12.0       1     1      1   \n",
       "2     7.5    16.5  122.300003    133       6.0      12.0       2     1      0   \n",
       "3     0.5    16.5  122.300003    129       NaN      12.0       2     0      0   \n",
       "4    15.5    16.5  122.300003    126      12.0      12.0       2     1      0   \n",
       "5    27.5    16.5  122.300003    134      14.0      12.0       2     1      1   \n",
       "\n",
       "   cigs    lbwght  bwghtlbs  packs   lfaminc  \n",
       "1     0  4.691348    6.8125    0.0  2.602690  \n",
       "2     0  4.890349    8.3125    0.0  2.014903  \n",
       "3     0  4.859812    8.0625    0.0 -0.693147  \n",
       "4     0  4.836282    7.8750    0.0  2.740840  \n",
       "5     0  4.897840    8.3750    0.0  3.314186  "
      ]
     },
     "execution_count": 2,
     "metadata": {},
     "output_type": "execute_result"
    }
   ],
   "source": [
    "data = pd.read_csv('../data/punto_4/base_p4.csv', index_col=0)\n",
    "data.head()"
   ]
  },
  {
   "cell_type": "code",
   "execution_count": 3,
   "metadata": {},
   "outputs": [],
   "source": [
    "# Quitar nulos\n",
    "data = data.drop('fatheduc', axis=1)\n",
    "data = data.dropna(subset=['motheduc'])"
   ]
  },
  {
   "cell_type": "code",
   "execution_count": 4,
   "metadata": {},
   "outputs": [],
   "source": [
    "# Filtrar las columnas mas significativas según el EDA\n",
    "data = data[['faminc', 'cigprice', 'bwght', 'motheduc', 'male', 'cigs']]"
   ]
  },
  {
   "cell_type": "markdown",
   "metadata": {},
   "source": [
    "# Método Gauss"
   ]
  },
  {
   "cell_type": "code",
   "execution_count": 5,
   "metadata": {},
   "outputs": [
    {
     "name": "stdout",
     "output_type": "stream",
     "text": [
      "=======================\n",
      "Variable           Coef \n",
      "-----------------------\n",
      "faminc       0.093027428362222 \n",
      "cigprice     0.078669291307837 \n",
      "motheduc     -0.017912397883043 \n",
      "male         3.034044821097487 \n",
      "cigs         -0.466343700753197 \n",
      "intercepto   105.359264957147218 \n"
     ]
    }
   ],
   "source": [
    "data1 = data.copy()\n",
    "\n",
    "# Agregar una columna de unos para el término de intersección\n",
    "interc = np.ones((len(data1), 1))\n",
    "data1['intercepto'] = interc\n",
    "\n",
    "\n",
    "# Separar las variables independientes (X) de la variable dependiente (y)\n",
    "datos_prueba_X = data1.drop('bwght', axis=1)\n",
    "A = datos_prueba_X.T.dot(datos_prueba_X)\n",
    "b = datos_prueba_X.T.dot(data1['bwght'])\n",
    "\n",
    "# Crear una instancia de la clase MetodosNumericos\n",
    "mn = MetodosNumericos()\n",
    "\n",
    "#Aplicar método de Gauss\n",
    "coefs = mn.backward_substi(mn.Gauss(A.to_numpy(),b.to_numpy())[0], mn.Gauss(A.to_numpy(),b.to_numpy())[1])\n",
    "\n",
    "# Obtener los nombres de las variables\n",
    "nombres_variables = datos_prueba_X.columns.tolist()\n",
    "\n",
    "# Imprimir los resultados\n",
    "print(\"=\" * 23) \n",
    "print(\"{:<12} {:>10} \".format(\"Variable\", \"Coef\"))\n",
    "print(\"-\" * 23) \n",
    "\n",
    "for nombre, coeficiente in zip(nombres_variables, coefs):\n",
    "    print(\"{:<12} {:>10.15f} \".format(nombre, coeficiente))\n"
   ]
  },
  {
   "cell_type": "markdown",
   "metadata": {},
   "source": [
    "# Skelearn"
   ]
  },
  {
   "cell_type": "code",
   "execution_count": 12,
   "metadata": {},
   "outputs": [
    {
     "name": "stdout",
     "output_type": "stream",
     "text": [
      "=======================\n",
      "Coeficientes de regresión lineal:\n",
      "-----------------------\n",
      "faminc      : 0.093027428362222\n",
      "cigprice    : 0.078669291307840\n",
      "motheduc    : -0.017912397883037\n",
      "male        : 3.034044821097491\n",
      "cigs        : -0.466343700753195\n",
      "------------------------------\n",
      "Término de intersección: [105.35926496]\n",
      "==============================\n"
     ]
    }
   ],
   "source": [
    "data2 = data.copy()\n",
    "\n",
    "# # Separar las variables independientes (X) de la variable dependiente (y)\n",
    "x = data.drop('bwght', axis=1)\n",
    "y = data[['bwght']]\n",
    "\n",
    "# Crear una instancia de LinearRegression\n",
    "modelo = LinearRegression()\n",
    "\n",
    "# Ajustar el modelo a los datos\n",
    "modelo.fit(x, y)\n",
    "\n",
    "# Obtener los coeficientes y el término de intersección\n",
    "coeficientes = modelo.coef_\n",
    "intercepto = modelo.intercept_\n",
    "\n",
    "# Obtener los nombres de las variables\n",
    "nombres_variables = x.columns.tolist()\n",
    "\n",
    "print(\"=\" * 23)\n",
    "print(\"Coeficientes de regresión lineal:\")\n",
    "print(\"-\" * 23)\n",
    "for nombre, coeficiente in zip(nombres_variables, coeficientes[0]):\n",
    "    print(\"{:<12}: {:>10.15f}\".format(nombre, coeficiente))\n",
    "print(\"-\" * 30)\n",
    "print(\"Término de intersección:\", intercepto)\n",
    "print(\"=\" * 30)"
   ]
  },
  {
   "cell_type": "markdown",
   "metadata": {},
   "source": [
    "# Stastmodels"
   ]
  },
  {
   "cell_type": "code",
   "execution_count": 11,
   "metadata": {},
   "outputs": [
    {
     "name": "stdout",
     "output_type": "stream",
     "text": [
      "                            OLS Regression Results                            \n",
      "==============================================================================\n",
      "Dep. Variable:                  bwght   R-squared:                       0.037\n",
      "Model:                            OLS   Adj. R-squared:                  0.034\n",
      "Method:                 Least Squares   F-statistic:                     10.64\n",
      "Date:                Mon, 22 Apr 2024   Prob (F-statistic):           4.77e-10\n",
      "Time:                        08:41:32   Log-Likelihood:                -6121.1\n",
      "No. Observations:                1387   AIC:                         1.225e+04\n",
      "Df Residuals:                    1381   BIC:                         1.229e+04\n",
      "Df Model:                           5                                         \n",
      "Covariance Type:            nonrobust                                         \n",
      "==============================================================================\n",
      "                 coef    std err          t      P>|t|      [0.025      0.975]\n",
      "------------------------------------------------------------------------------\n",
      "Intercept    105.3593      7.393     14.251      0.000      90.857     119.862\n",
      "faminc         0.0930      0.033      2.862      0.004       0.029       0.157\n",
      "cigprice       0.0787      0.053      1.490      0.136      -0.025       0.182\n",
      "motheduc      -0.0179      0.257     -0.070      0.945      -0.523       0.487\n",
      "male           3.0340      1.078      2.814      0.005       0.919       5.149\n",
      "cigs          -0.4663      0.093     -5.041      0.000      -0.648      -0.285\n",
      "==============================================================================\n",
      "Omnibus:                      121.637   Durbin-Watson:                   1.929\n",
      "Prob(Omnibus):                  0.000   Jarque-Bera (JB):              679.611\n",
      "Skew:                          -0.156   Prob(JB):                    2.66e-148\n",
      "Kurtosis:                       6.415   Cond. No.                     1.86e+03\n",
      "==============================================================================\n",
      "\n",
      "Notes:\n",
      "[1] Standard Errors assume that the covariance matrix of the errors is correctly specified.\n",
      "[2] The condition number is large, 1.86e+03. This might indicate that there are\n",
      "strong multicollinearity or other numerical problems.\n"
     ]
    }
   ],
   "source": [
    "data3 = data.copy()\n",
    "formula = 'bwght ~ faminc + cigprice + motheduc + male + cigs'\n",
    "model = sm.ols(formula = formula, data = data3)\n",
    "fitted = model.fit()\n",
    "print(fitted.summary())"
   ]
  }
 ],
 "metadata": {
  "kernelspec": {
   "display_name": "Python 3",
   "language": "python",
   "name": "python3"
  },
  "language_info": {
   "codemirror_mode": {
    "name": "ipython",
    "version": 3
   },
   "file_extension": ".py",
   "mimetype": "text/x-python",
   "name": "python",
   "nbconvert_exporter": "python",
   "pygments_lexer": "ipython3",
   "version": "3.11.7"
  }
 },
 "nbformat": 4,
 "nbformat_minor": 2
}
